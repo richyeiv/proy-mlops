{
 "cells": [
  {
   "cell_type": "markdown",
   "id": "fda7cb7e",
   "metadata": {},
   "source": [
    "# Glaucoma Grupo #3\n",
    "# Framework de pruebas unitarias `Unittest`\n",
    "#### Ricardo Castro\n",
    "#### Gabriela Gonzales\n",
    "#### Grover Gonzales\n",
    "#### Isabel Sandoval\n",
    "#### Mariela Avircata\n",
    "\n",
    "<img src=\"https://res.cloudinary.com/doauxwlye/image/upload/v1688827273/ProyectoFinalGrupo3/TEST_i4dfvs.png\" width=\"70%\">\n",
    "\n",
    "\n",
    "Las pruebas unitarias o unit testing son una forma de comprobar que un fragmento de código funciona correctamente. Varías de las clasificaciones vistas en este tutorial forman parte de la clasificación de pruebas unitarias. Un trabajo de programación de calidad usualmente requiere la mitad de tiempo para codificar y la mitad de tiempo para crear las pruebas unitarias necesarias para probar el correcto funcionamiento del codigo, para esto se sugiere utilizar un framework de pruebas como `Unittest`, `PyTest` o `Robot`.\n",
    "\n",
    "Hay varias razones para utilizar un framework de pruebas:\n",
    "- Si tiene muchos casos de prueba, el framework de pruebas le evitará escribir mucho código.\n",
    "- El framework proporciona una forma uniforme de informar los resultados de las pruebas y gestionar las fallas de las pruebas.\n",
    "- Un framework de pruebas puede informarle sobre la cobertura de código para que sepa qué pruebas agregar.\n",
    "\n",
    "Esta vez, usaremos el framework `Unittest`. Este es un paquete de Python separado. El uso de este framework requiere lo siguiente:\n",
    "1. Importar el módulo unittest\n",
    "2. Definir una clase que herede de `unittest.TestCase`\n",
    "3. Escribir funciones que ejecuten el código que se probará y comprobar los resultados.\n",
    "\n",
    "El último elemento tiene dos subpartes:\n",
    "- Primero, debemos identificar qué métodos de la clase que hereda de `unittest.TestCase` son pruebas. Usted indica que método debe ejecutarse como una prueba haciendo que el nombre del método comience con la palabra \"test\".\n",
    "\n",
    "- Segundo, los \"métodos de prueba\" deben comunicar al framework los resultados obtenidos de la evaluación de la salida del código que se está probando. Esto se realiza usando sentencias `assert`. Por ejemplo, `self.assertEqual` toma dos argumentos. Si estos son objetos para los que `==` devuelve `True`, la prueba pasa. De lo contrario, la prueba falla."
   ]
  },
  {
   "cell_type": "markdown",
   "id": "3e959cf0",
   "metadata": {},
   "source": [
    "# Prueba de humo  test 1\n",
    "\n",
    "¿La función se ejecuta cuando la invocamos o genera errores y explota en llamas hasta causar humo?"
   ]
  },
  {
   "cell_type": "code",
   "execution_count": 27,
   "id": "d37b22fd",
   "metadata": {},
   "outputs": [
    {
     "name": "stderr",
     "output_type": "stream",
     "text": [
      "test_smoke_test_load_image (PruebaHumo.TestLoadImage) ... FAIL\n",
      "\n",
      "======================================================================\n",
      "FAIL: test_smoke_test_load_image (PruebaHumo.TestLoadImage)\n",
      "----------------------------------------------------------------------\n",
      "Traceback (most recent call last):\n",
      "  File \"C:\\Users\\GROVER\\PruebaHumo.py\", line 33, in test_smoke_test_load_image\n",
      "    im = imread(image_path)\n",
      "  File \"C:\\ProgramData\\Anaconda3\\lib\\site-packages\\skimage\\io\\_io.py\", line 53, in imread\n",
      "    img = call_plugin('imread', fname, plugin=plugin, **plugin_args)\n",
      "  File \"C:\\ProgramData\\Anaconda3\\lib\\site-packages\\skimage\\io\\manage_plugins.py\", line 207, in call_plugin\n",
      "    return func(*args, **kwargs)\n",
      "  File \"C:\\ProgramData\\Anaconda3\\lib\\site-packages\\skimage\\io\\_plugins\\imageio_plugin.py\", line 10, in imread\n",
      "    return np.asarray(imageio_imread(*args, **kwargs))\n",
      "  File \"C:\\ProgramData\\Anaconda3\\lib\\site-packages\\imageio\\__init__.py\", line 97, in imread\n",
      "    return imread_v2(uri, format=format, **kwargs)\n",
      "  File \"C:\\ProgramData\\Anaconda3\\lib\\site-packages\\imageio\\v2.py\", line 200, in imread\n",
      "    with imopen(uri, \"ri\", **imopen_args) as file:\n",
      "  File \"C:\\ProgramData\\Anaconda3\\lib\\site-packages\\imageio\\core\\imopen.py\", line 118, in imopen\n",
      "    request = Request(uri, io_mode, format_hint=format_hint, extension=extension)\n",
      "  File \"C:\\ProgramData\\Anaconda3\\lib\\site-packages\\imageio\\core\\request.py\", line 248, in __init__\n",
      "    self._parse_uri(uri)\n",
      "  File \"C:\\ProgramData\\Anaconda3\\lib\\site-packages\\imageio\\core\\request.py\", line 407, in _parse_uri\n",
      "    raise FileNotFoundError(\"No such file: '%s'\" % fn)\n",
      "FileNotFoundError: No such file: 'C:\\Users\\GROVER\\GlaucomaTest\\Fundus_Train_Val_Data\\Fundus_Scanes_Sorted\\Train\\Glaucoma_Negative\\image1.jpg'\n",
      "\n",
      "During handling of the above exception, another exception occurred:\n",
      "\n",
      "Traceback (most recent call last):\n",
      "  File \"C:\\Users\\GROVER\\PruebaHumo.py\", line 39, in test_smoke_test_load_image\n",
      "    self.fail(f\"Archivo no encontrado: {image_path}\")\n",
      "AssertionError: Archivo no encontrado: GlaucomaTest/Fundus_Train_Val_Data/Fundus_Scanes_Sorted/Train\\Glaucoma_Negative\\image1.jpg\n",
      "\n",
      "----------------------------------------------------------------------\n",
      "Ran 1 test in 0.002s\n",
      "\n",
      "FAILED (failures=1)\n"
     ]
    }
   ],
   "source": [
    "#TEST image1.jpg'. Esto significa que el archivo de imagen no existe en la ruta especificada.\n",
    "!python -W ignore -m unittest -v PruebaHumo.py"
   ]
  },
  {
   "cell_type": "markdown",
   "id": "c7e26afa",
   "metadata": {},
   "source": [
    "# Prueba de humo  test 2"
   ]
  },
  {
   "cell_type": "code",
   "execution_count": 28,
   "id": "984c26e8",
   "metadata": {},
   "outputs": [
    {
     "name": "stderr",
     "output_type": "stream",
     "text": [
      "test_smoke_test_load_image (PruebaHumoOk.TestLoadImage) ... ok\n",
      "\n",
      "----------------------------------------------------------------------\n",
      "Ran 1 test in 1.076s\n",
      "\n",
      "OK\n"
     ]
    }
   ],
   "source": [
    "#TEST 001.jpg'. Esto significa que el archivo de imagen existe en la ruta especificada.\n",
    "!python -W ignore -m unittest -v PruebaHumoOk.py"
   ]
  },
  {
   "cell_type": "markdown",
   "id": "c1780973",
   "metadata": {},
   "source": [
    "# Prueba de borde\n",
    "\n",
    "Como se menciono anteriormente, las prueba de borde tienen la finalidad de procesar una entrada que se espera genere una excepción y verificar que la excepción se esta generando efectivamente"
   ]
  },
  {
   "cell_type": "code",
   "execution_count": 29,
   "id": "2d1e1220",
   "metadata": {},
   "outputs": [
    {
     "name": "stderr",
     "output_type": "stream",
     "text": [
      "test_conteo_imagenes (TestPruebaBordeOk.TestPruebaBorde) ... ok\n",
      "\n",
      "----------------------------------------------------------------------\n",
      "Ran 1 test in 0.000s\n",
      "\n",
      "OK\n"
     ]
    }
   ],
   "source": [
    "!python -W ignore -m unittest -v TestPruebaBordeOk.py"
   ]
  },
  {
   "cell_type": "markdown",
   "id": "bf93c96c",
   "metadata": {},
   "source": [
    "# Prueba de Golpe  \n",
    "Sabemos por discusiones anteriores que cuando tenemos 2 elementos y ambos tienen 0.5 de probabilidad, la cantidad de bits necesarios debe ser 1."
   ]
  },
  {
   "cell_type": "code",
   "execution_count": 30,
   "id": "7cd63b4f",
   "metadata": {},
   "outputs": [
    {
     "name": "stderr",
     "output_type": "stream",
     "text": [
      "test_prueba_un_golpe (TestPruebaGolpeDeteccionGlaucoma.TestPruebaGolpeDeteccionGlaucoma) ... ok\n",
      "\n",
      "----------------------------------------------------------------------\n",
      "Ran 1 test in 0.000s\n",
      "\n",
      "OK\n"
     ]
    }
   ],
   "source": [
    "#TEST 001.jpg'. Esto significa que el archivo de imagen existe en la ruta especificada.\n",
    "!python -W ignore -m unittest -v TestPruebaGolpeDeteccionGlaucoma.py"
   ]
  },
  {
   "cell_type": "markdown",
   "id": "3d9b851e",
   "metadata": {},
   "source": [
    " # pruebas unitarias `Unittest`\n",
    " \n",
    "Primero creamos una Clase TestGlaucomaDeteccion que hereda de unittest.TestCase. \n",
    "Hemos definido tres métodos de prueba\n",
    "\n",
    "1.- test_existencia_directorio\n",
    "\n",
    "2.- test_carga_imagen \n",
    "\n",
    "3.- test_conteo_imagenes"
   ]
  },
  {
   "cell_type": "code",
   "execution_count": 31,
   "id": "8c6c2a2f",
   "metadata": {},
   "outputs": [
    {
     "name": "stderr",
     "output_type": "stream",
     "text": [
      "test_carga_imagen (test_glaucoma_Unittest.TestGlaucomaDeteccion) ... ok\n",
      "test_conteo_imagenes (test_glaucoma_Unittest.TestGlaucomaDeteccion) ... ok\n",
      "test_existencia_directorio (test_glaucoma_Unittest.TestGlaucomaDeteccion) ... ok\n",
      "\n",
      "----------------------------------------------------------------------\n",
      "Ran 3 tests in 3.638s\n",
      "\n",
      "OK\n"
     ]
    }
   ],
   "source": [
    "!python -W ignore -m unittest -v test_glaucoma_Unittest.py"
   ]
  },
  {
   "cell_type": "markdown",
   "id": "0fa8e6c6",
   "metadata": {},
   "source": [
    "# Resultado \n",
    "Se realizaron las tres pruebas unitarias (test_carga_imagen, test_conteo_imagenes y test_existencia_directorio) y todas se ejecutaron sin errores, lo que se indica con el mensaje \"OK\" "
   ]
  }
 ],
 "metadata": {
  "kernelspec": {
   "display_name": "Python 3 (ipykernel)",
   "language": "python",
   "name": "python3"
  },
  "language_info": {
   "codemirror_mode": {
    "name": "ipython",
    "version": 3
   },
   "file_extension": ".py",
   "mimetype": "text/x-python",
   "name": "python",
   "nbconvert_exporter": "python",
   "pygments_lexer": "ipython3",
   "version": "3.9.13"
  }
 },
 "nbformat": 4,
 "nbformat_minor": 5
}
